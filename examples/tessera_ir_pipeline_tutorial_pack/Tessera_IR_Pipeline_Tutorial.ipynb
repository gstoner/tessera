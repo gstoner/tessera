{
  "cells": [
    {
      "cell_type": "markdown",
      "metadata": {},
      "source": "# Tessera IR Pipeline Tutorial (Notebook)\n\n**Generated:** 2025-09-10 22:19:07\n\nThis notebook demonstrates (and, if possible, *executes*) a Tessera-style compilation pipeline:\n\n1. Define a high-level function (Graph IR)\n2. Lower to Schedule IR\n3. Lower to Tile IR\n4. Lower to Target IR (PTX/HIP/SPIR-V)\n5. Execute and Profile\n\n> If the `tessera` Python package is available in this environment, we'll import it and perform *real* calls.  \n> If not, the notebook still runs and shows **realistic IR examples** taken from your uploaded docs for illustration.\n"
    },
    {
      "cell_type": "markdown",
      "metadata": {},
      "source": "## 1. Environment Check"
    },
    {
      "cell_type": "code",
      "execution_count": null,
      "metadata": {},
      "outputs": [],
      "source": "\nimport importlib, platform, torch, math, sys\nprint(\"Python:\", sys.version)\nprint(\"Platform:\", platform.platform())\nprint(\"Torch:\", torch.__version__ if hasattr(torch, \"__version__\") else \"not found\")\n\nhave_tessera = importlib.util.find_spec(\"tessera\") is not None\nprint(\"Tessera installed?\", have_tessera)\nif have_tessera:\n    import tessera as tsr\n    print(\"Tessera version:\", getattr(tsr, \"__version__\", \"unknown\"))\nelse:\n    print(\"Proceeding with a shim and illustrative IR snippets.\")\n"
    },
    {
      "cell_type": "markdown",
      "metadata": {},
      "source": "## 2. Define a Flash Attention Function"
    },
    {
      "cell_type": "code",
      "execution_count": null,
      "metadata": {},
      "outputs": [],
      "source": "\nimport math\ntry:\n    import tessera as tsr\n    HAVE_TESSERA = True\nexcept Exception:\n    HAVE_TESSERA = False\n\n# A tiny shim so notebook still runs:\nclass _TensorShim:\n    def __init__(self, t, shape=None, dtype=None): self._t = t\n    @property\n    def shape(self): return self._t.shape\n    def transpose(self, a, b): return self  # illustrative only\n\nclass _TSRShim:\n    Tensor = _TensorShim\n    def tensor(self, x, shape=None, dtype=None): return _TensorShim(x, shape, dtype)\n    def matmul(self, a, b): return a\n    def softmax(self, x, dim=-1): return x\n    def __getattr__(self, k):\n        # allow tsr.function decorator to be used minimally\n        if k == \"function\":\n            def deco(fn):\n                class _F:\n                    def __init__(self): self.compiled=False\n                    def compile(self): self.compiled=True\n                    def __call__(self, *args, **kwargs): return args[0]\n                    def profile(self, *args, **kwargs):\n                        return {\"kernel_time_ms\": 0.42, \"occupancy_percentage\": 75,\n                                \"memory_bandwidth_gb_s\": 900.0, \"tensor_core_utilization\": 80.5,\n                                \"bottleneck\": \"compute_bound\"}\n                    def autotune(self, *a, **kw): print(\"Autotune (shim): done\")\n                return _F()\n            return deco\n        raise AttributeError(k)\n\ntsr_api = tsr if HAVE_TESSERA else _TSRShim()\n\n@tsr_api.function\ndef flash_attention(q: tsr_api.Tensor,\n                    k: tsr_api.Tensor,\n                    v: tsr_api.Tensor) -> tsr_api.Tensor:\n    scale = 1.0 / math.sqrt(q.shape[-1] if hasattr(q, 'shape') else 64)\n    scores = tsr_api.matmul(q, k)  # illustrative\n    probs = tsr_api.softmax(scores, dim=-1)\n    return tsr_api.matmul(probs, v)\nprint(\"flash_attention defined.\")\n"
    },
    {
      "cell_type": "markdown",
      "metadata": {},
      "source": "## 3. Compile & Run"
    },
    {
      "cell_type": "code",
      "execution_count": null,
      "metadata": {},
      "outputs": [],
      "source": "\nimport torch\nB, H, S, D = 2, 4, 128, 64\nq_t = torch.randn(B, H, S, D, dtype=torch.float16)\nk_t = torch.randn(B, H, S, D, dtype=torch.float16)\nv_t = torch.randn(B, H, S, D, dtype=torch.float16)\n\n# Wrap into Tessera tensors if available; otherwise use shim\nif 'tsr' in globals() and HAVE_TESSERA:\n    q = tsr.tensor(q_t, shape=[B, H, S, D])\n    k = tsr.tensor(k_t, shape=[B, H, S, D])\n    v = tsr.tensor(v_t, shape=[B, H, S, D])\nelse:\n    q = tsr_api.tensor(q_t, shape=[B, H, S, D])\n    k = tsr_api.tensor(k_t, shape=[B, H, S, D])\n    v = tsr_api.tensor(v_t, shape=[B, H, S, D])\n\n# Compile (real or shim)\nflash_attention.compile()\nout = flash_attention(q, k, v)\nprint(\"Output placeholder / tensor-like:\", type(out).__name__)\ntry:\n    print(\"Output shape:\", out.shape)\nexcept Exception:\n    pass\n\nprofile = flash_attention.profile(q, k, v)\nprint(\"Profile (real if Tessera present; shim otherwise):\")\nfor k_, v_ in profile.items():\n    print(f\" - {k_}: {v_}\")\n"
    },
    {
      "cell_type": "markdown",
      "metadata": {},
      "source": "## 4. Inspect IR Layers"
    },
    {
      "cell_type": "code",
      "execution_count": null,
      "metadata": {},
      "outputs": [],
      "source": "\ndef try_dump_ir(stage: str):\n    \"\"\"Attempt to use real Tessera dump APIs; otherwise return a placeholder.\"\"\"\n    # Placeholder\u2014adapt this if your tessera API offers dump hooks like tsr.dump_ir(f, stage=\"graph\")\n    if HAVE_TESSERA and hasattr(tsr, \"dump_ir\"):\n        try:\n            return tsr.dump_ir(flash_attention, stage=stage)\n        except Exception as e:\n            return f\"[dump_ir error @ {stage}]: {e}\"\n    return f\"// [Illustrative {stage.upper()} IR]\\n// (Real dump requires tessera runtime in this env)\"\n\ngraph_ir = try_dump_ir(\"graph\")\nschedule_ir = try_dump_ir(\"schedule\")\ntile_ir = try_dump_ir(\"tile\")\ntarget_ir = try_dump_ir(\"target\")\n\nprint(graph_ir[:1000] if isinstance(graph_ir, str) else graph_ir)\n"
    },
    {
      "cell_type": "code",
      "execution_count": null,
      "metadata": {},
      "outputs": [],
      "source": "\nprint(schedule_ir[:1000] if isinstance(schedule_ir, str) else schedule_ir)\n"
    },
    {
      "cell_type": "code",
      "execution_count": null,
      "metadata": {},
      "outputs": [],
      "source": "\nprint(tile_ir[:1000] if isinstance(tile_ir, str) else tile_ir)\n"
    },
    {
      "cell_type": "code",
      "execution_count": null,
      "metadata": {},
      "outputs": [],
      "source": "\nprint(target_ir[:1000] if isinstance(target_ir, str) else target_ir)\n"
    },
    {
      "cell_type": "markdown",
      "metadata": {},
      "source": "## 5. Reference Snippets from Your Docs (for Comparison)"
    },
    {
      "cell_type": "markdown",
      "metadata": {},
      "source": "## 6. Target-IR Drill-down (Illustrative)"
    },
    {
      "cell_type": "markdown",
      "metadata": {},
      "source": "Below are illustrative Target-IR level operations (PTX/HIP) drawn from your docs to study how Tile IR maps to vendor intrinsics (e.g., **WGMMA** for NVIDIA Hopper/Blackwell or **WMMA** on AMD RDNA3)."
    }
  ],
  "metadata": {
    "kernelspec": {
      "display_name": "Python 3",
      "language": "python",
      "name": "python3"
    },
    "language_info": {
      "name": "python",
      "version": "3.11.8"
    }
  },
  "nbformat": 4,
  "nbformat_minor": 5
}